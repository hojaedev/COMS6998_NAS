{
  "nbformat": 4,
  "nbformat_minor": 0,
  "metadata": {
    "colab": {
      "name": "Final_Results.ipynb",
      "provenance": [],
      "machine_shape": "hm",
      "background_execution": "on",
      "collapsed_sections": [],
      "toc_visible": true
    },
    "kernelspec": {
      "name": "python3",
      "display_name": "Python 3"
    },
    "language_info": {
      "name": "python"
    },
    "accelerator": "GPU"
  },
  "cells": [
    {
      "cell_type": "code",
      "execution_count": 1,
      "metadata": {
        "colab": {
          "base_uri": "https://localhost:8080/"
        },
        "id": "omKGOcNqsIo_",
        "outputId": "81c7f848-55ec-4921-8fec-2ad75f8b3baa"
      },
      "outputs": [
        {
          "output_type": "stream",
          "name": "stdout",
          "text": [
            "Mounted at /content/drive\n"
          ]
        }
      ],
      "source": [
        "from google.colab import drive\n",
        "drive.mount('/content/drive')"
      ]
    },
    {
      "cell_type": "code",
      "source": [
        "import math\n",
        "import matplotlib.pyplot as plt\n",
        "import keras\n",
        "import pandas as pd\n",
        "import numpy as np\n",
        "from keras.models import Sequential\n",
        "from keras.layers import Dense\n",
        "from keras.layers import LSTM\n",
        "from keras.layers import Dropout\n",
        "from keras.layers import GRU\n",
        "from keras.layers import *\n",
        "from sklearn.preprocessing import MinMaxScaler\n",
        "from sklearn.metrics import mean_squared_error\n",
        "from sklearn.metrics import mean_absolute_error\n",
        "from sklearn.model_selection import train_test_split\n",
        "from keras.callbacks import EarlyStopping"
      ],
      "metadata": {
        "id": "qAq8llm_sOK5"
      },
      "execution_count": 2,
      "outputs": []
    },
    {
      "cell_type": "markdown",
      "source": [
        "# Generating Data"
      ],
      "metadata": {
        "id": "XWBR_HcVs7IV"
      }
    },
    {
      "cell_type": "code",
      "source": [
        "df=pd.read_csv(\"/content/drive/My Drive/6998/project/TSLA.csv\")\n",
        "# df = pd.read_csv('./tsla.us.txt')\n",
        "print(\"Number of rows and columns:\", df.shape)\n",
        "df.head(5)"
      ],
      "metadata": {
        "colab": {
          "base_uri": "https://localhost:8080/",
          "height": 224
        },
        "id": "Gs7oEj8nsPVD",
        "outputId": "f6fc6feb-1604-4343-8a10-3c7c135a9254"
      },
      "execution_count": 3,
      "outputs": [
        {
          "output_type": "stream",
          "name": "stdout",
          "text": [
            "Number of rows and columns: (1259, 7)\n"
          ]
        },
        {
          "output_type": "execute_result",
          "data": {
            "text/html": [
              "<div>\n",
              "<style scoped>\n",
              "    .dataframe tbody tr th:only-of-type {\n",
              "        vertical-align: middle;\n",
              "    }\n",
              "\n",
              "    .dataframe tbody tr th {\n",
              "        vertical-align: top;\n",
              "    }\n",
              "\n",
              "    .dataframe thead th {\n",
              "        text-align: right;\n",
              "    }\n",
              "</style>\n",
              "<table border=\"1\" class=\"dataframe\">\n",
              "  <thead>\n",
              "    <tr style=\"text-align: right;\">\n",
              "      <th></th>\n",
              "      <th>Date</th>\n",
              "      <th>Open</th>\n",
              "      <th>High</th>\n",
              "      <th>Low</th>\n",
              "      <th>Close</th>\n",
              "      <th>Adj Close</th>\n",
              "      <th>Volume</th>\n",
              "    </tr>\n",
              "  </thead>\n",
              "  <tbody>\n",
              "    <tr>\n",
              "      <th>0</th>\n",
              "      <td>2015-07-10</td>\n",
              "      <td>52.444000</td>\n",
              "      <td>52.599998</td>\n",
              "      <td>51.563999</td>\n",
              "      <td>51.830002</td>\n",
              "      <td>51.830002</td>\n",
              "      <td>13054500</td>\n",
              "    </tr>\n",
              "    <tr>\n",
              "      <th>1</th>\n",
              "      <td>2015-07-13</td>\n",
              "      <td>52.450001</td>\n",
              "      <td>52.509998</td>\n",
              "      <td>51.209999</td>\n",
              "      <td>52.431999</td>\n",
              "      <td>52.431999</td>\n",
              "      <td>14801500</td>\n",
              "    </tr>\n",
              "    <tr>\n",
              "      <th>2</th>\n",
              "      <td>2015-07-14</td>\n",
              "      <td>52.419998</td>\n",
              "      <td>53.198002</td>\n",
              "      <td>52.102001</td>\n",
              "      <td>53.130001</td>\n",
              "      <td>53.130001</td>\n",
              "      <td>9538000</td>\n",
              "    </tr>\n",
              "    <tr>\n",
              "      <th>3</th>\n",
              "      <td>2015-07-15</td>\n",
              "      <td>53.348000</td>\n",
              "      <td>53.498001</td>\n",
              "      <td>52.416000</td>\n",
              "      <td>52.627998</td>\n",
              "      <td>52.627998</td>\n",
              "      <td>10108000</td>\n",
              "    </tr>\n",
              "    <tr>\n",
              "      <th>4</th>\n",
              "      <td>2015-07-16</td>\n",
              "      <td>52.844002</td>\n",
              "      <td>53.439999</td>\n",
              "      <td>52.632000</td>\n",
              "      <td>53.335999</td>\n",
              "      <td>53.335999</td>\n",
              "      <td>8080000</td>\n",
              "    </tr>\n",
              "  </tbody>\n",
              "</table>\n",
              "</div>"
            ],
            "text/plain": [
              "         Date       Open       High        Low      Close  Adj Close    Volume\n",
              "0  2015-07-10  52.444000  52.599998  51.563999  51.830002  51.830002  13054500\n",
              "1  2015-07-13  52.450001  52.509998  51.209999  52.431999  52.431999  14801500\n",
              "2  2015-07-14  52.419998  53.198002  52.102001  53.130001  53.130001   9538000\n",
              "3  2015-07-15  53.348000  53.498001  52.416000  52.627998  52.627998  10108000\n",
              "4  2015-07-16  52.844002  53.439999  52.632000  53.335999  53.335999   8080000"
            ]
          },
          "metadata": {},
          "execution_count": 3
        }
      ]
    },
    {
      "cell_type": "code",
      "source": [
        "training_set = df.iloc[:800, 1:2].values\n",
        "test_set = df.iloc[800:, 1:2].values"
      ],
      "metadata": {
        "id": "loyNoDIrsQfs"
      },
      "execution_count": 4,
      "outputs": []
    },
    {
      "cell_type": "code",
      "source": [
        "# Feature Scaling\n",
        "sc = MinMaxScaler(feature_range = (0, 1))\n",
        "training_set_scaled = sc.fit_transform(training_set)\n",
        "# Creating a data structure with 60 time-steps and 1 output\n",
        "X_train = []\n",
        "y_train = []\n",
        "for i in range(5, 800):\n",
        "    X_train.append(training_set_scaled[i-5:i, 0])\n",
        "    y_train.append(training_set_scaled[i, 0])\n",
        "X_train, y_train = np.array(X_train), np.array(y_train)\n",
        "X_train = np.reshape(X_train, (X_train.shape[0], X_train.shape[1], 1))\n",
        "#(740, 60, 1)"
      ],
      "metadata": {
        "id": "kWMpQtjFsR4z"
      },
      "execution_count": 5,
      "outputs": []
    },
    {
      "cell_type": "markdown",
      "source": [
        "# Manual LSTM Model"
      ],
      "metadata": {
        "id": "DpE9Ykc5s8vL"
      }
    },
    {
      "cell_type": "code",
      "source": [
        "model_LSTM = Sequential()\n",
        "#Adding the first LSTM layer and some Dropout regularisation\n",
        "model_LSTM.add(LSTM(units = 50, return_sequences = True, input_shape = (X_train.shape[1], 1)))\n",
        "model_LSTM.add(Dropout(0.2))\n",
        "# Adding a second LSTM layer and some Dropout regularisation\n",
        "model_LSTM.add(LSTM(units = 50, return_sequences = True))\n",
        "model_LSTM.add(Dropout(0.2))\n",
        "# Adding a third LSTM layer and some Dropout regularisation\n",
        "model_LSTM.add(LSTM(units = 50, return_sequences = True))\n",
        "model_LSTM.add(Dropout(0.2))\n",
        "# Adding a fourth LSTM layer and some Dropout regularisation\n",
        "model_LSTM.add(LSTM(units = 50))\n",
        "model_LSTM.add(Dropout(0.2))\n",
        "# Adding the output layer\n",
        "model_LSTM.add(Dense(units = 1))\n",
        "\n",
        "# Compiling the RNN\n",
        "model_LSTM.compile(optimizer = 'adam', loss = 'mean_squared_error')\n",
        "\n",
        "import time\n",
        "t1 = time.perf_counter()\n",
        "\n",
        "# Fitting the RNN to the Training set\n",
        "model_LSTM.fit(X_train, y_train, epochs = 100, batch_size = 32)\n",
        "\n",
        "t2 = time.perf_counter()\n",
        "time_taken = 'Time taken to run:' + str(t2-t1)\n",
        "print(time_taken)"
      ],
      "metadata": {
        "colab": {
          "base_uri": "https://localhost:8080/"
        },
        "id": "O5uJ98QMsUC0",
        "outputId": "d7256898-4d75-439b-adc3-61f9106fcb91"
      },
      "execution_count": 6,
      "outputs": [
        {
          "output_type": "stream",
          "name": "stdout",
          "text": [
            "Epoch 1/100\n",
            "25/25 [==============================] - 9s 8ms/step - loss: 0.1383\n",
            "Epoch 2/100\n",
            "25/25 [==============================] - 0s 8ms/step - loss: 0.0252\n",
            "Epoch 3/100\n",
            "25/25 [==============================] - 0s 7ms/step - loss: 0.0101\n",
            "Epoch 4/100\n",
            "25/25 [==============================] - 0s 7ms/step - loss: 0.0080\n",
            "Epoch 5/100\n",
            "25/25 [==============================] - 0s 8ms/step - loss: 0.0080\n",
            "Epoch 6/100\n",
            "25/25 [==============================] - 0s 8ms/step - loss: 0.0073\n",
            "Epoch 7/100\n",
            "25/25 [==============================] - 0s 8ms/step - loss: 0.0073\n",
            "Epoch 8/100\n",
            "25/25 [==============================] - 0s 7ms/step - loss: 0.0069\n",
            "Epoch 9/100\n",
            "25/25 [==============================] - 0s 7ms/step - loss: 0.0076\n",
            "Epoch 10/100\n",
            "25/25 [==============================] - 0s 8ms/step - loss: 0.0070\n",
            "Epoch 11/100\n",
            "25/25 [==============================] - 0s 7ms/step - loss: 0.0071\n",
            "Epoch 12/100\n",
            "25/25 [==============================] - 0s 8ms/step - loss: 0.0065\n",
            "Epoch 13/100\n",
            "25/25 [==============================] - 0s 8ms/step - loss: 0.0064\n",
            "Epoch 14/100\n",
            "25/25 [==============================] - 0s 8ms/step - loss: 0.0058\n",
            "Epoch 15/100\n",
            "25/25 [==============================] - 0s 8ms/step - loss: 0.0053\n",
            "Epoch 16/100\n",
            "25/25 [==============================] - 0s 8ms/step - loss: 0.0062\n",
            "Epoch 17/100\n",
            "25/25 [==============================] - 0s 8ms/step - loss: 0.0052\n",
            "Epoch 18/100\n",
            "25/25 [==============================] - 0s 8ms/step - loss: 0.0062\n",
            "Epoch 19/100\n",
            "25/25 [==============================] - 0s 7ms/step - loss: 0.0057\n",
            "Epoch 20/100\n",
            "25/25 [==============================] - 0s 7ms/step - loss: 0.0065\n",
            "Epoch 21/100\n",
            "25/25 [==============================] - 0s 7ms/step - loss: 0.0054\n",
            "Epoch 22/100\n",
            "25/25 [==============================] - 0s 7ms/step - loss: 0.0054\n",
            "Epoch 23/100\n",
            "25/25 [==============================] - 0s 7ms/step - loss: 0.0056\n",
            "Epoch 24/100\n",
            "25/25 [==============================] - 0s 8ms/step - loss: 0.0055\n",
            "Epoch 25/100\n",
            "25/25 [==============================] - 0s 8ms/step - loss: 0.0051\n",
            "Epoch 26/100\n",
            "25/25 [==============================] - 0s 8ms/step - loss: 0.0059\n",
            "Epoch 27/100\n",
            "25/25 [==============================] - 0s 8ms/step - loss: 0.0052\n",
            "Epoch 28/100\n",
            "25/25 [==============================] - 0s 8ms/step - loss: 0.0051\n",
            "Epoch 29/100\n",
            "25/25 [==============================] - 0s 8ms/step - loss: 0.0053\n",
            "Epoch 30/100\n",
            "25/25 [==============================] - 0s 8ms/step - loss: 0.0056\n",
            "Epoch 31/100\n",
            "25/25 [==============================] - 0s 8ms/step - loss: 0.0049\n",
            "Epoch 32/100\n",
            "25/25 [==============================] - 0s 8ms/step - loss: 0.0057\n",
            "Epoch 33/100\n",
            "25/25 [==============================] - 0s 8ms/step - loss: 0.0052\n",
            "Epoch 34/100\n",
            "25/25 [==============================] - 0s 8ms/step - loss: 0.0058\n",
            "Epoch 35/100\n",
            "25/25 [==============================] - 0s 7ms/step - loss: 0.0048\n",
            "Epoch 36/100\n",
            "25/25 [==============================] - 0s 8ms/step - loss: 0.0052\n",
            "Epoch 37/100\n",
            "25/25 [==============================] - 0s 7ms/step - loss: 0.0050\n",
            "Epoch 38/100\n",
            "25/25 [==============================] - 0s 8ms/step - loss: 0.0051\n",
            "Epoch 39/100\n",
            "25/25 [==============================] - 0s 7ms/step - loss: 0.0055\n",
            "Epoch 40/100\n",
            "25/25 [==============================] - 0s 8ms/step - loss: 0.0047\n",
            "Epoch 41/100\n",
            "25/25 [==============================] - 0s 7ms/step - loss: 0.0056\n",
            "Epoch 42/100\n",
            "25/25 [==============================] - 0s 7ms/step - loss: 0.0053\n",
            "Epoch 43/100\n",
            "25/25 [==============================] - 0s 8ms/step - loss: 0.0049\n",
            "Epoch 44/100\n",
            "25/25 [==============================] - 0s 8ms/step - loss: 0.0048\n",
            "Epoch 45/100\n",
            "25/25 [==============================] - 0s 8ms/step - loss: 0.0050\n",
            "Epoch 46/100\n",
            "25/25 [==============================] - 0s 8ms/step - loss: 0.0046\n",
            "Epoch 47/100\n",
            "25/25 [==============================] - 0s 8ms/step - loss: 0.0048\n",
            "Epoch 48/100\n",
            "25/25 [==============================] - 0s 7ms/step - loss: 0.0047\n",
            "Epoch 49/100\n",
            "25/25 [==============================] - 0s 7ms/step - loss: 0.0055\n",
            "Epoch 50/100\n",
            "25/25 [==============================] - 0s 7ms/step - loss: 0.0049\n",
            "Epoch 51/100\n",
            "25/25 [==============================] - 0s 7ms/step - loss: 0.0047\n",
            "Epoch 52/100\n",
            "25/25 [==============================] - 0s 8ms/step - loss: 0.0044\n",
            "Epoch 53/100\n",
            "25/25 [==============================] - 0s 8ms/step - loss: 0.0045\n",
            "Epoch 54/100\n",
            "25/25 [==============================] - 0s 8ms/step - loss: 0.0046\n",
            "Epoch 55/100\n",
            "25/25 [==============================] - 0s 7ms/step - loss: 0.0047\n",
            "Epoch 56/100\n",
            "25/25 [==============================] - 0s 7ms/step - loss: 0.0046\n",
            "Epoch 57/100\n",
            "25/25 [==============================] - 0s 7ms/step - loss: 0.0046\n",
            "Epoch 58/100\n",
            "25/25 [==============================] - 0s 7ms/step - loss: 0.0045\n",
            "Epoch 59/100\n",
            "25/25 [==============================] - 0s 8ms/step - loss: 0.0044\n",
            "Epoch 60/100\n",
            "25/25 [==============================] - 0s 7ms/step - loss: 0.0051\n",
            "Epoch 61/100\n",
            "25/25 [==============================] - 0s 8ms/step - loss: 0.0045\n",
            "Epoch 62/100\n",
            "25/25 [==============================] - 0s 7ms/step - loss: 0.0049\n",
            "Epoch 63/100\n",
            "25/25 [==============================] - 0s 7ms/step - loss: 0.0044\n",
            "Epoch 64/100\n",
            "25/25 [==============================] - 0s 7ms/step - loss: 0.0046\n",
            "Epoch 65/100\n",
            "25/25 [==============================] - 0s 7ms/step - loss: 0.0040\n",
            "Epoch 66/100\n",
            "25/25 [==============================] - 0s 7ms/step - loss: 0.0038\n",
            "Epoch 67/100\n",
            "25/25 [==============================] - 0s 8ms/step - loss: 0.0041\n",
            "Epoch 68/100\n",
            "25/25 [==============================] - 0s 7ms/step - loss: 0.0040\n",
            "Epoch 69/100\n",
            "25/25 [==============================] - 0s 7ms/step - loss: 0.0038\n",
            "Epoch 70/100\n",
            "25/25 [==============================] - 0s 8ms/step - loss: 0.0045\n",
            "Epoch 71/100\n",
            "25/25 [==============================] - 0s 7ms/step - loss: 0.0046\n",
            "Epoch 72/100\n",
            "25/25 [==============================] - 0s 7ms/step - loss: 0.0042\n",
            "Epoch 73/100\n",
            "25/25 [==============================] - 0s 7ms/step - loss: 0.0035\n",
            "Epoch 74/100\n",
            "25/25 [==============================] - 0s 7ms/step - loss: 0.0037\n",
            "Epoch 75/100\n",
            "25/25 [==============================] - 0s 8ms/step - loss: 0.0037\n",
            "Epoch 76/100\n",
            "25/25 [==============================] - 0s 7ms/step - loss: 0.0037\n",
            "Epoch 77/100\n",
            "25/25 [==============================] - 0s 7ms/step - loss: 0.0037\n",
            "Epoch 78/100\n",
            "25/25 [==============================] - 0s 8ms/step - loss: 0.0034\n",
            "Epoch 79/100\n",
            "25/25 [==============================] - 0s 8ms/step - loss: 0.0035\n",
            "Epoch 80/100\n",
            "25/25 [==============================] - 0s 8ms/step - loss: 0.0037\n",
            "Epoch 81/100\n",
            "25/25 [==============================] - 0s 7ms/step - loss: 0.0035\n",
            "Epoch 82/100\n",
            "25/25 [==============================] - 0s 7ms/step - loss: 0.0035\n",
            "Epoch 83/100\n",
            "25/25 [==============================] - 0s 7ms/step - loss: 0.0036\n",
            "Epoch 84/100\n",
            "25/25 [==============================] - 0s 7ms/step - loss: 0.0038\n",
            "Epoch 85/100\n",
            "25/25 [==============================] - 0s 8ms/step - loss: 0.0033\n",
            "Epoch 86/100\n",
            "25/25 [==============================] - 0s 7ms/step - loss: 0.0033\n",
            "Epoch 87/100\n",
            "25/25 [==============================] - 0s 7ms/step - loss: 0.0034\n",
            "Epoch 88/100\n",
            "25/25 [==============================] - 0s 8ms/step - loss: 0.0031\n",
            "Epoch 89/100\n",
            "25/25 [==============================] - 0s 7ms/step - loss: 0.0034\n",
            "Epoch 90/100\n",
            "25/25 [==============================] - 0s 8ms/step - loss: 0.0036\n",
            "Epoch 91/100\n",
            "25/25 [==============================] - 0s 8ms/step - loss: 0.0033\n",
            "Epoch 92/100\n",
            "25/25 [==============================] - 0s 8ms/step - loss: 0.0036\n",
            "Epoch 93/100\n",
            "25/25 [==============================] - 0s 8ms/step - loss: 0.0031\n",
            "Epoch 94/100\n",
            "25/25 [==============================] - 0s 8ms/step - loss: 0.0033\n",
            "Epoch 95/100\n",
            "25/25 [==============================] - 0s 7ms/step - loss: 0.0032\n",
            "Epoch 96/100\n",
            "25/25 [==============================] - 0s 8ms/step - loss: 0.0030\n",
            "Epoch 97/100\n",
            "25/25 [==============================] - 0s 8ms/step - loss: 0.0037\n",
            "Epoch 98/100\n",
            "25/25 [==============================] - 0s 7ms/step - loss: 0.0035\n",
            "Epoch 99/100\n",
            "25/25 [==============================] - 0s 7ms/step - loss: 0.0033\n",
            "Epoch 100/100\n",
            "25/25 [==============================] - 0s 7ms/step - loss: 0.0027\n",
            "Time taken to run:27.947555727999998\n"
          ]
        }
      ]
    },
    {
      "cell_type": "code",
      "source": [
        "# Getting the predicted stock price of 2017\n",
        "dataset_train = df.iloc[:800, 1:2]\n",
        "dataset_test = df.iloc[800:, 1:2]\n",
        "dataset_total = pd.concat((dataset_train, dataset_test), axis = 0)\n",
        "inputs = dataset_total[len(dataset_total) - len(dataset_test) - 5:].values\n",
        "inputs = inputs.reshape(-1,1)\n",
        "inputs = sc.transform(inputs)\n",
        "\n",
        "sc_test = MinMaxScaler(feature_range = (0, 1))\n",
        "inputs_scaled = sc_test.fit_transform(inputs)\n",
        "\n",
        "X_test = []\n",
        "y_test = []\n",
        "\n",
        "for i in range(5, 464):\n",
        "    X_test.append(inputs[i-5:i, 0])\n",
        "    y_test.append(inputs[i, 0])\n",
        "\n",
        "X_test, y_test = np.array(X_test), np.array(y_test)\n",
        "X_test = np.reshape(X_test, (X_test.shape[0], X_test.shape[1], 1))"
      ],
      "metadata": {
        "id": "8_jpXkIDsWed"
      },
      "execution_count": 7,
      "outputs": []
    },
    {
      "cell_type": "code",
      "source": [
        "t1 = time.perf_counter()\n",
        "predicted_stock_price = model_LSTM.predict(X_test)\n",
        "t2 = time.perf_counter()\n",
        "\n",
        "predicted_stock_price = sc.inverse_transform(predicted_stock_price)\n",
        "\n",
        "print(model_LSTM.evaluate(X_test,y_test), t2-t1)"
      ],
      "metadata": {
        "colab": {
          "base_uri": "https://localhost:8080/"
        },
        "id": "9yke1FqLsXqh",
        "outputId": "cb3c506d-d208-4050-88f3-9c576f35bd0a"
      },
      "execution_count": 8,
      "outputs": [
        {
          "output_type": "stream",
          "name": "stdout",
          "text": [
            "15/15 [==============================] - 1s 3ms/step - loss: 0.7528\n",
            "0.7528371214866638 1.2876015710000956\n"
          ]
        }
      ]
    },
    {
      "cell_type": "code",
      "source": [
        "!mkdir -p saved_model\n",
        "model_LSTM.save('saved_model/manual_LSTM')"
      ],
      "metadata": {
        "colab": {
          "base_uri": "https://localhost:8080/"
        },
        "id": "oU_kFEy0m2gc",
        "outputId": "e2822830-02ed-409f-f08d-5d5a9fa2418e"
      },
      "execution_count": 9,
      "outputs": [
        {
          "output_type": "stream",
          "name": "stderr",
          "text": [
            "WARNING:absl:Found untraced functions such as lstm_cell_layer_call_fn, lstm_cell_layer_call_and_return_conditional_losses, lstm_cell_1_layer_call_fn, lstm_cell_1_layer_call_and_return_conditional_losses, lstm_cell_2_layer_call_fn while saving (showing 5 of 20). These functions will not be directly callable after loading.\n"
          ]
        },
        {
          "output_type": "stream",
          "name": "stdout",
          "text": [
            "INFO:tensorflow:Assets written to: saved_model/manual_LSTM/assets\n"
          ]
        },
        {
          "output_type": "stream",
          "name": "stderr",
          "text": [
            "INFO:tensorflow:Assets written to: saved_model/manual_LSTM/assets\n",
            "WARNING:absl:<keras.layers.recurrent.LSTMCell object at 0x7fb05c2a7f50> has the same name 'LSTMCell' as a built-in Keras object. Consider renaming <class 'keras.layers.recurrent.LSTMCell'> to avoid naming conflicts when loading with `tf.keras.models.load_model`. If renaming is not possible, pass the object in the `custom_objects` parameter of the load function.\n",
            "WARNING:absl:<keras.layers.recurrent.LSTMCell object at 0x7fafdc379bd0> has the same name 'LSTMCell' as a built-in Keras object. Consider renaming <class 'keras.layers.recurrent.LSTMCell'> to avoid naming conflicts when loading with `tf.keras.models.load_model`. If renaming is not possible, pass the object in the `custom_objects` parameter of the load function.\n",
            "WARNING:absl:<keras.layers.recurrent.LSTMCell object at 0x7fafdc2b7190> has the same name 'LSTMCell' as a built-in Keras object. Consider renaming <class 'keras.layers.recurrent.LSTMCell'> to avoid naming conflicts when loading with `tf.keras.models.load_model`. If renaming is not possible, pass the object in the `custom_objects` parameter of the load function.\n",
            "WARNING:absl:<keras.layers.recurrent.LSTMCell object at 0x7fafdc19f910> has the same name 'LSTMCell' as a built-in Keras object. Consider renaming <class 'keras.layers.recurrent.LSTMCell'> to avoid naming conflicts when loading with `tf.keras.models.load_model`. If renaming is not possible, pass the object in the `custom_objects` parameter of the load function.\n"
          ]
        }
      ]
    },
    {
      "cell_type": "code",
      "source": [
        "# Visualising the results\n",
        "plt.rcParams[\"figure.figsize\"]=(15,10)\n",
        "plt.plot(df.loc[800:, \"Date\"],dataset_test.values, color = \"red\", label = \"Real TESLA Stock Price\")\n",
        "plt.plot(df.loc[800:, \"Date\"],predicted_stock_price, color = \"blue\", label = \"Predicted TESLA Stock Price\")\n",
        "plt.xticks(np.arange(0,459,50))\n",
        "plt.title('TESLA Stock Price Prediction')\n",
        "plt.xlabel('Time')\n",
        "plt.ylabel('TESLA Stock Price')\n",
        "plt.legend()\n",
        "plt.show()"
      ],
      "metadata": {
        "colab": {
          "base_uri": "https://localhost:8080/",
          "height": 621
        },
        "id": "0rjtu3MQsYx1",
        "outputId": "4bc794fe-c4f5-4dc8-a391-7e7ad0e7c608"
      },
      "execution_count": 10,
      "outputs": [
        {
          "output_type": "display_data",
          "data": {
            "image/png": "[encoded data removed]",
            "text/plain": [
              "<Figure size 1080x720 with 1 Axes>"
            ]
          },
          "metadata": {
            "needs_background": "light"
          }
        }
      ]
    },
    {
      "cell_type": "code",
      "source": [
        "acc_LSTM = 100 - (abs(predicted_stock_price - dataset_test.values) / dataset_test.values * 100).mean()"
      ],
      "metadata": {
        "id": "IpCaIad9W2Br"
      },
      "execution_count": 13,
      "outputs": []
    },
    {
      "cell_type": "code",
      "source": [
        "print(acc_LSTM)"
      ],
      "metadata": {
        "colab": {
          "base_uri": "https://localhost:8080/"
        },
        "id": "tKl8DtZKWcSS",
        "outputId": "b2cbbd24-6328-4bd9-a2a8-65c3b0e35a8b"
      },
      "execution_count": 34,
      "outputs": [
        {
          "output_type": "stream",
          "name": "stdout",
          "text": [
            "85.8985318191656\n"
          ]
        }
      ]
    },
    {
      "cell_type": "markdown",
      "source": [
        "## Results"
      ],
      "metadata": {
        "id": "RrPhNhmus-kK"
      }
    },
    {
      "cell_type": "markdown",
      "source": [
        "Time taken to train: 27.95s\n",
        "\n",
        "Loss: 0.7528\n",
        "\n",
        "Accuracy: 85.90"
      ],
      "metadata": {
        "id": "uvB_vxTVtAZL"
      }
    },
    {
      "cell_type": "markdown",
      "source": [
        "# Manual GRU Model"
      ],
      "metadata": {
        "id": "7M-SuPs7tJBj"
      }
    },
    {
      "cell_type": "code",
      "source": [
        "model_GRU = Sequential()\n",
        "#Adding the first LSTM layer and some Dropout regularisation\n",
        "model_GRU.add(GRU(units = 50, return_sequences = True, input_shape = (X_train.shape[1], 1)))\n",
        "model_GRU.add(Dropout(0.2))\n",
        "# Adding a second LSTM layer and some Dropout regularisation\n",
        "model_GRU.add(GRU(units = 50, return_sequences = True))\n",
        "model_GRU.add(Dropout(0.2))\n",
        "# Adding a third LSTM layer and some Dropout regularisation\n",
        "model_GRU.add(GRU(units = 50, return_sequences = True))\n",
        "model_GRU.add(Dropout(0.2))\n",
        "# Adding a fourth LSTM layer and some Dropout regularisation\n",
        "model_GRU.add(GRU(units = 50))\n",
        "model_GRU.add(Dropout(0.2))\n",
        "# Adding the output layer\n",
        "model_GRU.add(Dense(units = 1))\n",
        "\n",
        "# Compiling the RNN\n",
        "model_GRU.compile(optimizer = 'adam', loss = 'mean_squared_error')\n",
        "\n",
        "import time\n",
        "t1 = time.perf_counter()\n",
        "\n",
        "# Fitting the RNN to the Training set\n",
        "model_GRU.fit(X_train, y_train, epochs = 100, batch_size = 32)\n",
        "\n",
        "t2 = time.perf_counter()\n",
        "time_taken = 'Time taken to run:' + str(t2-t1)\n",
        "print(time_taken)"
      ],
      "metadata": {
        "colab": {
          "base_uri": "https://localhost:8080/"
        },
        "id": "xMwKpCJrtLIh",
        "outputId": "aee22376-8b1b-4c39-cf7f-aef5a6d646fe"
      },
      "execution_count": 14,
      "outputs": [
        {
          "output_type": "stream",
          "name": "stdout",
          "text": [
            "Epoch 1/100\n",
            "25/25 [==============================] - 5s 7ms/step - loss: 0.0668\n",
            "Epoch 2/100\n",
            "25/25 [==============================] - 0s 7ms/step - loss: 0.0138\n",
            "Epoch 3/100\n",
            "25/25 [==============================] - 0s 7ms/step - loss: 0.0077\n",
            "Epoch 4/100\n",
            "25/25 [==============================] - 0s 7ms/step - loss: 0.0065\n",
            "Epoch 5/100\n",
            "25/25 [==============================] - 0s 7ms/step - loss: 0.0075\n",
            "Epoch 6/100\n",
            "25/25 [==============================] - 0s 7ms/step - loss: 0.0068\n",
            "Epoch 7/100\n",
            "25/25 [==============================] - 0s 7ms/step - loss: 0.0062\n",
            "Epoch 8/100\n",
            "25/25 [==============================] - 0s 7ms/step - loss: 0.0065\n",
            "Epoch 9/100\n",
            "25/25 [==============================] - 0s 7ms/step - loss: 0.0063\n",
            "Epoch 10/100\n",
            "25/25 [==============================] - 0s 7ms/step - loss: 0.0064\n",
            "Epoch 11/100\n",
            "25/25 [==============================] - 0s 7ms/step - loss: 0.0062\n",
            "Epoch 12/100\n",
            "25/25 [==============================] - 0s 7ms/step - loss: 0.0053\n",
            "Epoch 13/100\n",
            "25/25 [==============================] - 0s 7ms/step - loss: 0.0052\n",
            "Epoch 14/100\n",
            "25/25 [==============================] - 0s 7ms/step - loss: 0.0063\n",
            "Epoch 15/100\n",
            "25/25 [==============================] - 0s 7ms/step - loss: 0.0057\n",
            "Epoch 16/100\n",
            "25/25 [==============================] - 0s 7ms/step - loss: 0.0048\n",
            "Epoch 17/100\n",
            "25/25 [==============================] - 0s 7ms/step - loss: 0.0050\n",
            "Epoch 18/100\n",
            "25/25 [==============================] - 0s 7ms/step - loss: 0.0052\n",
            "Epoch 19/100\n",
            "25/25 [==============================] - 0s 7ms/step - loss: 0.0058\n",
            "Epoch 20/100\n",
            "25/25 [==============================] - 0s 7ms/step - loss: 0.0051\n",
            "Epoch 21/100\n",
            "25/25 [==============================] - 0s 7ms/step - loss: 0.0048\n",
            "Epoch 22/100\n",
            "25/25 [==============================] - 0s 7ms/step - loss: 0.0052\n",
            "Epoch 23/100\n",
            "25/25 [==============================] - 0s 7ms/step - loss: 0.0050\n",
            "Epoch 24/100\n",
            "25/25 [==============================] - 0s 7ms/step - loss: 0.0051\n",
            "Epoch 25/100\n",
            "25/25 [==============================] - 0s 7ms/step - loss: 0.0049\n",
            "Epoch 26/100\n",
            "25/25 [==============================] - 0s 7ms/step - loss: 0.0044\n",
            "Epoch 27/100\n",
            "25/25 [==============================] - 0s 7ms/step - loss: 0.0046\n",
            "Epoch 28/100\n",
            "25/25 [==============================] - 0s 7ms/step - loss: 0.0048\n",
            "Epoch 29/100\n",
            "25/25 [==============================] - 0s 7ms/step - loss: 0.0045\n",
            "Epoch 30/100\n",
            "25/25 [==============================] - 0s 7ms/step - loss: 0.0045\n",
            "Epoch 31/100\n",
            "25/25 [==============================] - 0s 7ms/step - loss: 0.0039\n",
            "Epoch 32/100\n",
            "25/25 [==============================] - 0s 7ms/step - loss: 0.0041\n",
            "Epoch 33/100\n",
            "25/25 [==============================] - 0s 7ms/step - loss: 0.0041\n",
            "Epoch 34/100\n",
            "25/25 [==============================] - 0s 7ms/step - loss: 0.0039\n",
            "Epoch 35/100\n",
            "25/25 [==============================] - 0s 7ms/step - loss: 0.0040\n",
            "Epoch 36/100\n",
            "25/25 [==============================] - 0s 7ms/step - loss: 0.0038\n",
            "Epoch 37/100\n",
            "25/25 [==============================] - 0s 7ms/step - loss: 0.0039\n",
            "Epoch 38/100\n",
            "25/25 [==============================] - 0s 7ms/step - loss: 0.0034\n",
            "Epoch 39/100\n",
            "25/25 [==============================] - 0s 7ms/step - loss: 0.0038\n",
            "Epoch 40/100\n",
            "25/25 [==============================] - 0s 7ms/step - loss: 0.0036\n",
            "Epoch 41/100\n",
            "25/25 [==============================] - 0s 7ms/step - loss: 0.0045\n",
            "Epoch 42/100\n",
            "25/25 [==============================] - 0s 7ms/step - loss: 0.0034\n",
            "Epoch 43/100\n",
            "25/25 [==============================] - 0s 7ms/step - loss: 0.0034\n",
            "Epoch 44/100\n",
            "25/25 [==============================] - 0s 7ms/step - loss: 0.0036\n",
            "Epoch 45/100\n",
            "25/25 [==============================] - 0s 7ms/step - loss: 0.0035\n",
            "Epoch 46/100\n",
            "25/25 [==============================] - 0s 7ms/step - loss: 0.0033\n",
            "Epoch 47/100\n",
            "25/25 [==============================] - 0s 8ms/step - loss: 0.0036\n",
            "Epoch 48/100\n",
            "25/25 [==============================] - 0s 7ms/step - loss: 0.0032\n",
            "Epoch 49/100\n",
            "25/25 [==============================] - 0s 7ms/step - loss: 0.0031\n",
            "Epoch 50/100\n",
            "25/25 [==============================] - 0s 7ms/step - loss: 0.0032\n",
            "Epoch 51/100\n",
            "25/25 [==============================] - 0s 7ms/step - loss: 0.0032\n",
            "Epoch 52/100\n",
            "25/25 [==============================] - 0s 7ms/step - loss: 0.0034\n",
            "Epoch 53/100\n",
            "25/25 [==============================] - 0s 7ms/step - loss: 0.0031\n",
            "Epoch 54/100\n",
            "25/25 [==============================] - 0s 7ms/step - loss: 0.0032\n",
            "Epoch 55/100\n",
            "25/25 [==============================] - 0s 7ms/step - loss: 0.0035\n",
            "Epoch 56/100\n",
            "25/25 [==============================] - 0s 7ms/step - loss: 0.0028\n",
            "Epoch 57/100\n",
            "25/25 [==============================] - 0s 7ms/step - loss: 0.0029\n",
            "Epoch 58/100\n",
            "25/25 [==============================] - 0s 7ms/step - loss: 0.0030\n",
            "Epoch 59/100\n",
            "25/25 [==============================] - 0s 7ms/step - loss: 0.0031\n",
            "Epoch 60/100\n",
            "25/25 [==============================] - 0s 7ms/step - loss: 0.0030\n",
            "Epoch 61/100\n",
            "25/25 [==============================] - 0s 7ms/step - loss: 0.0029\n",
            "Epoch 62/100\n",
            "25/25 [==============================] - 0s 7ms/step - loss: 0.0028\n",
            "Epoch 63/100\n",
            "25/25 [==============================] - 0s 7ms/step - loss: 0.0029\n",
            "Epoch 64/100\n",
            "25/25 [==============================] - 0s 7ms/step - loss: 0.0029\n",
            "Epoch 65/100\n",
            "25/25 [==============================] - 0s 7ms/step - loss: 0.0028\n",
            "Epoch 66/100\n",
            "25/25 [==============================] - 0s 7ms/step - loss: 0.0028\n",
            "Epoch 67/100\n",
            "25/25 [==============================] - 0s 7ms/step - loss: 0.0026\n",
            "Epoch 68/100\n",
            "25/25 [==============================] - 0s 7ms/step - loss: 0.0030\n",
            "Epoch 69/100\n",
            "25/25 [==============================] - 0s 7ms/step - loss: 0.0029\n",
            "Epoch 70/100\n",
            "25/25 [==============================] - 0s 7ms/step - loss: 0.0033\n",
            "Epoch 71/100\n",
            "25/25 [==============================] - 0s 7ms/step - loss: 0.0031\n",
            "Epoch 72/100\n",
            "25/25 [==============================] - 0s 7ms/step - loss: 0.0028\n",
            "Epoch 73/100\n",
            "25/25 [==============================] - 0s 7ms/step - loss: 0.0028\n",
            "Epoch 74/100\n",
            "25/25 [==============================] - 0s 7ms/step - loss: 0.0022\n",
            "Epoch 75/100\n",
            "25/25 [==============================] - 0s 8ms/step - loss: 0.0027\n",
            "Epoch 76/100\n",
            "25/25 [==============================] - 0s 7ms/step - loss: 0.0027\n",
            "Epoch 77/100\n",
            "25/25 [==============================] - 0s 7ms/step - loss: 0.0026\n",
            "Epoch 78/100\n",
            "25/25 [==============================] - 0s 7ms/step - loss: 0.0027\n",
            "Epoch 79/100\n",
            "25/25 [==============================] - 0s 7ms/step - loss: 0.0026\n",
            "Epoch 80/100\n",
            "25/25 [==============================] - 0s 7ms/step - loss: 0.0026\n",
            "Epoch 81/100\n",
            "25/25 [==============================] - 0s 7ms/step - loss: 0.0029\n",
            "Epoch 82/100\n",
            "25/25 [==============================] - 0s 7ms/step - loss: 0.0027\n",
            "Epoch 83/100\n",
            "25/25 [==============================] - 0s 7ms/step - loss: 0.0026\n",
            "Epoch 84/100\n",
            "25/25 [==============================] - 0s 7ms/step - loss: 0.0024\n",
            "Epoch 85/100\n",
            "25/25 [==============================] - 0s 7ms/step - loss: 0.0025\n",
            "Epoch 86/100\n",
            "25/25 [==============================] - 0s 7ms/step - loss: 0.0024\n",
            "Epoch 87/100\n",
            "25/25 [==============================] - 0s 7ms/step - loss: 0.0026\n",
            "Epoch 88/100\n",
            "25/25 [==============================] - 0s 7ms/step - loss: 0.0023\n",
            "Epoch 89/100\n",
            "25/25 [==============================] - 0s 7ms/step - loss: 0.0023\n",
            "Epoch 90/100\n",
            "25/25 [==============================] - 0s 7ms/step - loss: 0.0025\n",
            "Epoch 91/100\n",
            "25/25 [==============================] - 0s 7ms/step - loss: 0.0027\n",
            "Epoch 92/100\n",
            "25/25 [==============================] - 0s 7ms/step - loss: 0.0024\n",
            "Epoch 93/100\n",
            "25/25 [==============================] - 0s 7ms/step - loss: 0.0024\n",
            "Epoch 94/100\n",
            "25/25 [==============================] - 0s 7ms/step - loss: 0.0022\n",
            "Epoch 95/100\n",
            "25/25 [==============================] - 0s 7ms/step - loss: 0.0022\n",
            "Epoch 96/100\n",
            "25/25 [==============================] - 0s 7ms/step - loss: 0.0023\n",
            "Epoch 97/100\n",
            "25/25 [==============================] - 0s 7ms/step - loss: 0.0023\n",
            "Epoch 98/100\n",
            "25/25 [==============================] - 0s 7ms/step - loss: 0.0025\n",
            "Epoch 99/100\n",
            "25/25 [==============================] - 0s 7ms/step - loss: 0.0024\n",
            "Epoch 100/100\n",
            "25/25 [==============================] - 0s 7ms/step - loss: 0.0021\n",
            "Time taken to run:22.704464255999937\n"
          ]
        }
      ]
    },
    {
      "cell_type": "code",
      "source": [
        "# Getting the predicted stock price of 2017\n",
        "dataset_train = df.iloc[:800, 1:2]\n",
        "dataset_test = df.iloc[800:, 1:2]\n",
        "dataset_total = pd.concat((dataset_train, dataset_test), axis = 0)\n",
        "inputs = dataset_total[len(dataset_total) - len(dataset_test) - 5:].values\n",
        "inputs = inputs.reshape(-1,1)\n",
        "sc_test = MinMaxScaler(feature_range = (0, 1))\n",
        "inputs = sc.transform(inputs)\n",
        "\n",
        "X_test = []\n",
        "y_test = []\n",
        "\n",
        "for i in range(5, 464):\n",
        "    X_test.append(inputs[i-5:i, 0])\n",
        "    y_test.append(inputs[i, 0])\n",
        "\n",
        "X_test, y_test = np.array(X_test), np.array(y_test)\n",
        "X_test = np.reshape(X_test, (X_test.shape[0], X_test.shape[1], 1))"
      ],
      "metadata": {
        "id": "zWw3XsaXtPF7"
      },
      "execution_count": 15,
      "outputs": []
    },
    {
      "cell_type": "code",
      "source": [
        "t1 = time.perf_counter()\n",
        "predicted_stock_price = model_GRU.predict(X_test)\n",
        "t2 = time.perf_counter()\n",
        "\n",
        "predicted_stock_price = sc.inverse_transform(predicted_stock_price)\n",
        "\n",
        "print(model_GRU.evaluate(X_test,y_test), t2-t1)"
      ],
      "metadata": {
        "colab": {
          "base_uri": "https://localhost:8080/"
        },
        "id": "csNoZbtQtReW",
        "outputId": "f042842d-8dca-4149-c386-5965c8da475b"
      },
      "execution_count": 16,
      "outputs": [
        {
          "output_type": "stream",
          "name": "stdout",
          "text": [
            "15/15 [==============================] - 1s 3ms/step - loss: 0.0941\n",
            "0.09409523755311966 1.364219028999969\n"
          ]
        }
      ]
    },
    {
      "cell_type": "code",
      "source": [
        "!mkdir -p saved_model\n",
        "model_GRU.save('saved_model/manual_GRU')"
      ],
      "metadata": {
        "colab": {
          "base_uri": "https://localhost:8080/"
        },
        "id": "EWvJj3aStUPb",
        "outputId": "53418618-7c12-459d-f82b-9fad2e6e7a01"
      },
      "execution_count": 17,
      "outputs": [
        {
          "output_type": "stream",
          "name": "stderr",
          "text": [
            "WARNING:absl:Found untraced functions such as gru_cell_layer_call_fn, gru_cell_layer_call_and_return_conditional_losses, gru_cell_1_layer_call_fn, gru_cell_1_layer_call_and_return_conditional_losses, gru_cell_2_layer_call_fn while saving (showing 5 of 20). These functions will not be directly callable after loading.\n"
          ]
        },
        {
          "output_type": "stream",
          "name": "stdout",
          "text": [
            "INFO:tensorflow:Assets written to: saved_model/manual_GRU/assets\n"
          ]
        },
        {
          "output_type": "stream",
          "name": "stderr",
          "text": [
            "INFO:tensorflow:Assets written to: saved_model/manual_GRU/assets\n",
            "WARNING:absl:<keras.layers.recurrent.GRUCell object at 0x7fafb8258550> has the same name 'GRUCell' as a built-in Keras object. Consider renaming <class 'keras.layers.recurrent.GRUCell'> to avoid naming conflicts when loading with `tf.keras.models.load_model`. If renaming is not possible, pass the object in the `custom_objects` parameter of the load function.\n",
            "WARNING:absl:<keras.layers.recurrent.GRUCell object at 0x7fb0960236d0> has the same name 'GRUCell' as a built-in Keras object. Consider renaming <class 'keras.layers.recurrent.GRUCell'> to avoid naming conflicts when loading with `tf.keras.models.load_model`. If renaming is not possible, pass the object in the `custom_objects` parameter of the load function.\n",
            "WARNING:absl:<keras.layers.recurrent.GRUCell object at 0x7fafb41af050> has the same name 'GRUCell' as a built-in Keras object. Consider renaming <class 'keras.layers.recurrent.GRUCell'> to avoid naming conflicts when loading with `tf.keras.models.load_model`. If renaming is not possible, pass the object in the `custom_objects` parameter of the load function.\n",
            "WARNING:absl:<keras.layers.recurrent.GRUCell object at 0x7fb09645a8d0> has the same name 'GRUCell' as a built-in Keras object. Consider renaming <class 'keras.layers.recurrent.GRUCell'> to avoid naming conflicts when loading with `tf.keras.models.load_model`. If renaming is not possible, pass the object in the `custom_objects` parameter of the load function.\n"
          ]
        }
      ]
    },
    {
      "cell_type": "code",
      "source": [
        "# Visualising the results\n",
        "plt.rcParams[\"figure.figsize\"]=(15,10)\n",
        "plt.plot(df.loc[800:, \"Date\"],dataset_test.values, color = \"red\", label = \"Real TESLA Stock Price\")\n",
        "plt.plot(df.loc[800:, \"Date\"],predicted_stock_price, color = \"blue\", label = \"Predicted TESLA Stock Price\")\n",
        "plt.xticks(np.arange(0,459,50))\n",
        "plt.title('TESLA Stock Price Prediction')\n",
        "plt.xlabel('Time')\n",
        "plt.ylabel('TESLA Stock Price')\n",
        "plt.legend()\n",
        "plt.show()"
      ],
      "metadata": {
        "colab": {
          "base_uri": "https://localhost:8080/",
          "height": 621
        },
        "id": "TczpH6jrtXGS",
        "outputId": "0f07ff9b-e6d7-4092-cc86-858da24c6e38"
      },
      "execution_count": 18,
      "outputs": [
        {
          "output_type": "display_data",
          "data": {
            "image/png": "[encoded data removed]",
            "text/plain": [
              "<Figure size 1080x720 with 1 Axes>"
            ]
          },
          "metadata": {
            "needs_background": "light"
          }
        }
      ]
    },
    {
      "cell_type": "code",
      "source": [
        "acc_GRU = 100 - (abs(predicted_stock_price - dataset_test.values) / dataset_test.values * 100).mean()"
      ],
      "metadata": {
        "id": "9bsmWXb4XVPY"
      },
      "execution_count": 19,
      "outputs": []
    },
    {
      "cell_type": "code",
      "source": [
        "print(acc_GRU)"
      ],
      "metadata": {
        "colab": {
          "base_uri": "https://localhost:8080/"
        },
        "id": "FzqIVUUoWy1Y",
        "outputId": "a52bfd02-7a9c-4de8-b49d-b127dec26fef"
      },
      "execution_count": 35,
      "outputs": [
        {
          "output_type": "stream",
          "name": "stdout",
          "text": [
            "94.7658690115122\n"
          ]
        }
      ]
    },
    {
      "cell_type": "markdown",
      "source": [
        "## Results\n",
        "Time taken to train: 22.70s\n",
        "\n",
        "Loss: 0.0941\n",
        "\n",
        "Accuracy: 94.77"
      ],
      "metadata": {
        "id": "5DLI22E9twvl"
      }
    },
    {
      "cell_type": "markdown",
      "source": [
        "# LSTM stacked NAS model"
      ],
      "metadata": {
        "id": "bqZM5X5CtQ8C"
      }
    },
    {
      "cell_type": "code",
      "source": [
        "model_stack = Sequential()\n",
        "#Adding the first LSTM layer and some Dropout regularisation\n",
        "model_stack.add(LSTM(units = 100, return_sequences = True, input_shape = (X_train.shape[1], 1)))\n",
        "model_stack.add(Dropout(0.1))\n",
        "model_stack.add(LSTM(units = 50))\n",
        "model_stack.add(Dropout(0.2))\n",
        "model_stack.add(Dense(units = 1))\n",
        "\n",
        "\n",
        "# Compiling the RNN\n",
        "model_stack.compile(optimizer = 'adam', loss = 'mean_squared_error')\n",
        "\n",
        "# Fitting the RNN to the Training set\n",
        "model_stack.fit(X_train, y_train, epochs = 100, batch_size = 32)"
      ],
      "metadata": {
        "colab": {
          "base_uri": "https://localhost:8080/"
        },
        "id": "PanB3n3ltYWW",
        "outputId": "4f568b79-363f-4312-bf0a-c46afaa0be1e"
      },
      "execution_count": 20,
      "outputs": [
        {
          "output_type": "stream",
          "name": "stdout",
          "text": [
            "Epoch 1/100\n",
            "25/25 [==============================] - 3s 5ms/step - loss: 0.0883\n",
            "Epoch 2/100\n",
            "25/25 [==============================] - 0s 5ms/step - loss: 0.0115\n",
            "Epoch 3/100\n",
            "25/25 [==============================] - 0s 5ms/step - loss: 0.0068\n",
            "Epoch 4/100\n",
            "25/25 [==============================] - 0s 5ms/step - loss: 0.0065\n",
            "Epoch 5/100\n",
            "25/25 [==============================] - 0s 5ms/step - loss: 0.0060\n",
            "Epoch 6/100\n",
            "25/25 [==============================] - 0s 5ms/step - loss: 0.0057\n",
            "Epoch 7/100\n",
            "25/25 [==============================] - 0s 5ms/step - loss: 0.0050\n",
            "Epoch 8/100\n",
            "25/25 [==============================] - 0s 5ms/step - loss: 0.0056\n",
            "Epoch 9/100\n",
            "25/25 [==============================] - 0s 5ms/step - loss: 0.0054\n",
            "Epoch 10/100\n",
            "25/25 [==============================] - 0s 5ms/step - loss: 0.0056\n",
            "Epoch 11/100\n",
            "25/25 [==============================] - 0s 5ms/step - loss: 0.0049\n",
            "Epoch 12/100\n",
            "25/25 [==============================] - 0s 5ms/step - loss: 0.0050\n",
            "Epoch 13/100\n",
            "25/25 [==============================] - 0s 5ms/step - loss: 0.0044\n",
            "Epoch 14/100\n",
            "25/25 [==============================] - 0s 5ms/step - loss: 0.0049\n",
            "Epoch 15/100\n",
            "25/25 [==============================] - 0s 5ms/step - loss: 0.0048\n",
            "Epoch 16/100\n",
            "25/25 [==============================] - 0s 5ms/step - loss: 0.0046\n",
            "Epoch 17/100\n",
            "25/25 [==============================] - 0s 5ms/step - loss: 0.0045\n",
            "Epoch 18/100\n",
            "25/25 [==============================] - 0s 5ms/step - loss: 0.0043\n",
            "Epoch 19/100\n",
            "25/25 [==============================] - 0s 5ms/step - loss: 0.0043\n",
            "Epoch 20/100\n",
            "25/25 [==============================] - 0s 5ms/step - loss: 0.0040\n",
            "Epoch 21/100\n",
            "25/25 [==============================] - 0s 5ms/step - loss: 0.0043\n",
            "Epoch 22/100\n",
            "25/25 [==============================] - 0s 5ms/step - loss: 0.0037\n",
            "Epoch 23/100\n",
            "25/25 [==============================] - 0s 5ms/step - loss: 0.0047\n",
            "Epoch 24/100\n",
            "25/25 [==============================] - 0s 5ms/step - loss: 0.0041\n",
            "Epoch 25/100\n",
            "25/25 [==============================] - 0s 5ms/step - loss: 0.0037\n",
            "Epoch 26/100\n",
            "25/25 [==============================] - 0s 5ms/step - loss: 0.0041\n",
            "Epoch 27/100\n",
            "25/25 [==============================] - 0s 5ms/step - loss: 0.0039\n",
            "Epoch 28/100\n",
            "25/25 [==============================] - 0s 5ms/step - loss: 0.0039\n",
            "Epoch 29/100\n",
            "25/25 [==============================] - 0s 5ms/step - loss: 0.0042\n",
            "Epoch 30/100\n",
            "25/25 [==============================] - 0s 5ms/step - loss: 0.0041\n",
            "Epoch 31/100\n",
            "25/25 [==============================] - 0s 5ms/step - loss: 0.0046\n",
            "Epoch 32/100\n",
            "25/25 [==============================] - 0s 5ms/step - loss: 0.0040\n",
            "Epoch 33/100\n",
            "25/25 [==============================] - 0s 5ms/step - loss: 0.0042\n",
            "Epoch 34/100\n",
            "25/25 [==============================] - 0s 5ms/step - loss: 0.0039\n",
            "Epoch 35/100\n",
            "25/25 [==============================] - 0s 5ms/step - loss: 0.0040\n",
            "Epoch 36/100\n",
            "25/25 [==============================] - 0s 5ms/step - loss: 0.0047\n",
            "Epoch 37/100\n",
            "25/25 [==============================] - 0s 5ms/step - loss: 0.0045\n",
            "Epoch 38/100\n",
            "25/25 [==============================] - 0s 5ms/step - loss: 0.0037\n",
            "Epoch 39/100\n",
            "25/25 [==============================] - 0s 5ms/step - loss: 0.0037\n",
            "Epoch 40/100\n",
            "25/25 [==============================] - 0s 5ms/step - loss: 0.0034\n",
            "Epoch 41/100\n",
            "25/25 [==============================] - 0s 5ms/step - loss: 0.0037\n",
            "Epoch 42/100\n",
            "25/25 [==============================] - 0s 5ms/step - loss: 0.0034\n",
            "Epoch 43/100\n",
            "25/25 [==============================] - 0s 5ms/step - loss: 0.0035\n",
            "Epoch 44/100\n",
            "25/25 [==============================] - 0s 5ms/step - loss: 0.0033\n",
            "Epoch 45/100\n",
            "25/25 [==============================] - 0s 5ms/step - loss: 0.0035\n",
            "Epoch 46/100\n",
            "25/25 [==============================] - 0s 6ms/step - loss: 0.0032\n",
            "Epoch 47/100\n",
            "25/25 [==============================] - 0s 5ms/step - loss: 0.0034\n",
            "Epoch 48/100\n",
            "25/25 [==============================] - 0s 5ms/step - loss: 0.0034\n",
            "Epoch 49/100\n",
            "25/25 [==============================] - 0s 5ms/step - loss: 0.0035\n",
            "Epoch 50/100\n",
            "25/25 [==============================] - 0s 5ms/step - loss: 0.0032\n",
            "Epoch 51/100\n",
            "25/25 [==============================] - 0s 5ms/step - loss: 0.0034\n",
            "Epoch 52/100\n",
            "25/25 [==============================] - 0s 5ms/step - loss: 0.0032\n",
            "Epoch 53/100\n",
            "25/25 [==============================] - 0s 5ms/step - loss: 0.0034\n",
            "Epoch 54/100\n",
            "25/25 [==============================] - 0s 5ms/step - loss: 0.0035\n",
            "Epoch 55/100\n",
            "25/25 [==============================] - 0s 5ms/step - loss: 0.0032\n",
            "Epoch 56/100\n",
            "25/25 [==============================] - 0s 5ms/step - loss: 0.0034\n",
            "Epoch 57/100\n",
            "25/25 [==============================] - 0s 5ms/step - loss: 0.0030\n",
            "Epoch 58/100\n",
            "25/25 [==============================] - 0s 5ms/step - loss: 0.0031\n",
            "Epoch 59/100\n",
            "25/25 [==============================] - 0s 5ms/step - loss: 0.0033\n",
            "Epoch 60/100\n",
            "25/25 [==============================] - 0s 5ms/step - loss: 0.0032\n",
            "Epoch 61/100\n",
            "25/25 [==============================] - 0s 5ms/step - loss: 0.0031\n",
            "Epoch 62/100\n",
            "25/25 [==============================] - 0s 5ms/step - loss: 0.0027\n",
            "Epoch 63/100\n",
            "25/25 [==============================] - 0s 5ms/step - loss: 0.0027\n",
            "Epoch 64/100\n",
            "25/25 [==============================] - 0s 5ms/step - loss: 0.0027\n",
            "Epoch 65/100\n",
            "25/25 [==============================] - 0s 5ms/step - loss: 0.0031\n",
            "Epoch 66/100\n",
            "25/25 [==============================] - 0s 5ms/step - loss: 0.0030\n",
            "Epoch 67/100\n",
            "25/25 [==============================] - 0s 5ms/step - loss: 0.0032\n",
            "Epoch 68/100\n",
            "25/25 [==============================] - 0s 5ms/step - loss: 0.0028\n",
            "Epoch 69/100\n",
            "25/25 [==============================] - 0s 5ms/step - loss: 0.0027\n",
            "Epoch 70/100\n",
            "25/25 [==============================] - 0s 5ms/step - loss: 0.0027\n",
            "Epoch 71/100\n",
            "25/25 [==============================] - 0s 5ms/step - loss: 0.0028\n",
            "Epoch 72/100\n",
            "25/25 [==============================] - 0s 5ms/step - loss: 0.0027\n",
            "Epoch 73/100\n",
            "25/25 [==============================] - 0s 5ms/step - loss: 0.0026\n",
            "Epoch 74/100\n",
            "25/25 [==============================] - 0s 5ms/step - loss: 0.0024\n",
            "Epoch 75/100\n",
            "25/25 [==============================] - 0s 5ms/step - loss: 0.0026\n",
            "Epoch 76/100\n",
            "25/25 [==============================] - 0s 5ms/step - loss: 0.0027\n",
            "Epoch 77/100\n",
            "25/25 [==============================] - 0s 5ms/step - loss: 0.0024\n",
            "Epoch 78/100\n",
            "25/25 [==============================] - 0s 5ms/step - loss: 0.0028\n",
            "Epoch 79/100\n",
            "25/25 [==============================] - 0s 5ms/step - loss: 0.0026\n",
            "Epoch 80/100\n",
            "25/25 [==============================] - 0s 5ms/step - loss: 0.0025\n",
            "Epoch 81/100\n",
            "25/25 [==============================] - 0s 5ms/step - loss: 0.0024\n",
            "Epoch 82/100\n",
            "25/25 [==============================] - 0s 5ms/step - loss: 0.0024\n",
            "Epoch 83/100\n",
            "25/25 [==============================] - 0s 5ms/step - loss: 0.0027\n",
            "Epoch 84/100\n",
            "25/25 [==============================] - 0s 5ms/step - loss: 0.0024\n",
            "Epoch 85/100\n",
            "25/25 [==============================] - 0s 5ms/step - loss: 0.0028\n",
            "Epoch 86/100\n",
            "25/25 [==============================] - 0s 5ms/step - loss: 0.0025\n",
            "Epoch 87/100\n",
            "25/25 [==============================] - 0s 5ms/step - loss: 0.0024\n",
            "Epoch 88/100\n",
            "25/25 [==============================] - 0s 5ms/step - loss: 0.0026\n",
            "Epoch 89/100\n",
            "25/25 [==============================] - 0s 5ms/step - loss: 0.0028\n",
            "Epoch 90/100\n",
            "25/25 [==============================] - 0s 5ms/step - loss: 0.0024\n",
            "Epoch 91/100\n",
            "25/25 [==============================] - 0s 5ms/step - loss: 0.0022\n",
            "Epoch 92/100\n",
            "25/25 [==============================] - 0s 5ms/step - loss: 0.0022\n",
            "Epoch 93/100\n",
            "25/25 [==============================] - 0s 5ms/step - loss: 0.0023\n",
            "Epoch 94/100\n",
            "25/25 [==============================] - 0s 5ms/step - loss: 0.0021\n",
            "Epoch 95/100\n",
            "25/25 [==============================] - 0s 5ms/step - loss: 0.0024\n",
            "Epoch 96/100\n",
            "25/25 [==============================] - 0s 5ms/step - loss: 0.0025\n",
            "Epoch 97/100\n",
            "25/25 [==============================] - 0s 5ms/step - loss: 0.0023\n",
            "Epoch 98/100\n",
            "25/25 [==============================] - 0s 5ms/step - loss: 0.0023\n",
            "Epoch 99/100\n",
            "25/25 [==============================] - 0s 5ms/step - loss: 0.0021\n",
            "Epoch 100/100\n",
            "25/25 [==============================] - 0s 5ms/step - loss: 0.0021\n"
          ]
        },
        {
          "output_type": "execute_result",
          "data": {
            "text/plain": [
              "<keras.callbacks.History at 0x7fb08f3934d0>"
            ]
          },
          "metadata": {},
          "execution_count": 20
        }
      ]
    },
    {
      "cell_type": "code",
      "source": [
        "t1 = time.perf_counter()\n",
        "predicted_stock_price = model_stack.predict(X_test)\n",
        "t2 = time.perf_counter()\n",
        "predicted_stock_price = sc.inverse_transform(predicted_stock_price)\n",
        "\n",
        "print(model_stack.evaluate(X_test,y_test), t2-t1)"
      ],
      "metadata": {
        "colab": {
          "base_uri": "https://localhost:8080/"
        },
        "id": "9R1nRbj8vet4",
        "outputId": "6b676e18-7575-4b82-f3b6-c08d58083b9e"
      },
      "execution_count": 26,
      "outputs": [
        {
          "output_type": "stream",
          "name": "stdout",
          "text": [
            "15/15 [==============================] - 1s 5ms/step - loss: 0.2545\n",
            "0.2544763386249542 0.6441872210000383\n"
          ]
        }
      ]
    },
    {
      "cell_type": "code",
      "source": [
        "!mkdir -p saved_model\n",
        "model_stack.save('saved_model/LSTM_Stacked')"
      ],
      "metadata": {
        "colab": {
          "base_uri": "https://localhost:8080/"
        },
        "id": "dg5tLkion2KH",
        "outputId": "dee56886-78a9-4a33-f595-d248c57b92d4"
      },
      "execution_count": 22,
      "outputs": [
        {
          "output_type": "stream",
          "name": "stderr",
          "text": [
            "WARNING:absl:Found untraced functions such as lstm_cell_4_layer_call_fn, lstm_cell_4_layer_call_and_return_conditional_losses, lstm_cell_5_layer_call_fn, lstm_cell_5_layer_call_and_return_conditional_losses, lstm_cell_4_layer_call_fn while saving (showing 5 of 10). These functions will not be directly callable after loading.\n"
          ]
        },
        {
          "output_type": "stream",
          "name": "stdout",
          "text": [
            "INFO:tensorflow:Assets written to: saved_model/LSTM_Stacked/assets\n"
          ]
        },
        {
          "output_type": "stream",
          "name": "stderr",
          "text": [
            "INFO:tensorflow:Assets written to: saved_model/LSTM_Stacked/assets\n",
            "WARNING:absl:<keras.layers.recurrent.LSTMCell object at 0x7fafb830f290> has the same name 'LSTMCell' as a built-in Keras object. Consider renaming <class 'keras.layers.recurrent.LSTMCell'> to avoid naming conflicts when loading with `tf.keras.models.load_model`. If renaming is not possible, pass the object in the `custom_objects` parameter of the load function.\n",
            "WARNING:absl:<keras.layers.recurrent.LSTMCell object at 0x7fb096380510> has the same name 'LSTMCell' as a built-in Keras object. Consider renaming <class 'keras.layers.recurrent.LSTMCell'> to avoid naming conflicts when loading with `tf.keras.models.load_model`. If renaming is not possible, pass the object in the `custom_objects` parameter of the load function.\n"
          ]
        }
      ]
    },
    {
      "cell_type": "code",
      "source": [
        "# Visualising the results\n",
        "plt.rcParams[\"figure.figsize\"]=(15,10)\n",
        "plt.plot(df.loc[800:, \"Date\"],dataset_test.values, color = \"red\", label = \"Real TESLA Stock Price\")\n",
        "plt.plot(df.loc[800:, \"Date\"],predicted_stock_price, color = \"blue\", label = \"Predicted TESLA Stock Price\")\n",
        "plt.xticks(np.arange(0,459,50))\n",
        "plt.title('TESLA Stock Price Prediction')\n",
        "plt.xlabel('Time')\n",
        "plt.ylabel('TESLA Stock Price')\n",
        "plt.legend()\n",
        "plt.show()"
      ],
      "metadata": {
        "colab": {
          "base_uri": "https://localhost:8080/",
          "height": 621
        },
        "id": "TfR0zoSivgpA",
        "outputId": "7e548bf7-c09b-4058-b118-ffdf4c5d293c"
      },
      "execution_count": 28,
      "outputs": [
        {
          "output_type": "display_data",
          "data": {
            "image/png": "[encoded data removed]",
            "text/plain": [
              "<Figure size 1080x720 with 1 Axes>"
            ]
          },
          "metadata": {
            "needs_background": "light"
          }
        }
      ]
    },
    {
      "cell_type": "code",
      "source": [
        "acc_LSTM_st = 100 - (abs(predicted_stock_price - dataset_test.values) / dataset_test.values * 100).mean()"
      ],
      "metadata": {
        "id": "TcZCb6YQXYd4"
      },
      "execution_count": 24,
      "outputs": []
    },
    {
      "cell_type": "code",
      "source": [
        "print(acc_LSTM_st)"
      ],
      "metadata": {
        "colab": {
          "base_uri": "https://localhost:8080/"
        },
        "id": "F8MWK7Z6XGk3",
        "outputId": "68187bc0-44fc-4e95-f2f6-3ac9e4d7f261"
      },
      "execution_count": 37,
      "outputs": [
        {
          "output_type": "stream",
          "name": "stdout",
          "text": [
            "91.5925141679735\n"
          ]
        }
      ]
    },
    {
      "cell_type": "markdown",
      "source": [
        "## Results"
      ],
      "metadata": {
        "id": "lhHoE5-ntlnX"
      }
    },
    {
      "cell_type": "markdown",
      "source": [
        "Time taken to train: 15722.81s\n",
        "\n",
        "Loss: 0.2544763386249542\n",
        "\n",
        "Accuracy: 91.59"
      ],
      "metadata": {
        "id": "Ot2lI7rstmrR"
      }
    },
    {
      "cell_type": "markdown",
      "source": [
        "# Diverse Architectures NAS model"
      ],
      "metadata": {
        "id": "_ilVDrIeuSn4"
      }
    },
    {
      "cell_type": "code",
      "source": [
        "model_div = Sequential()\n",
        "#Adding the first LSTM layer and some Dropout regularisation\n",
        "model_div.add(GRU(units = 40, return_sequences = True, activation=\"relu\",\n",
        "                         input_shape = (X_train.shape[1], 1)))\n",
        "model_div.add(Dense(units = 20))\n",
        "model_div.add(LSTM(units = 80, return_sequences = True, activation=\"relu\"))\n",
        "model_div.add(LSTM(units = 50))\n",
        "model_div.add(Dense(units = 1))\n",
        "\n",
        "# Compiling the RNN\n",
        "model_div.compile(optimizer = 'adam', loss = 'mean_squared_error')\n",
        "\n",
        "# Fitting the RNN to the Training set\n",
        "model_div.fit(X_train, y_train, epochs = 100, batch_size = 32)"
      ],
      "metadata": {
        "colab": {
          "base_uri": "https://localhost:8080/"
        },
        "id": "2KV4HFCCuVl2",
        "outputId": "23c36cc9-ee4f-4d6e-9426-fe59548e4f2b"
      },
      "execution_count": 25,
      "outputs": [
        {
          "output_type": "stream",
          "name": "stdout",
          "text": [
            "WARNING:tensorflow:Layer gru_4 will not use cuDNN kernels since it doesn't meet the criteria. It will use a generic GPU kernel as fallback when running on GPU.\n"
          ]
        },
        {
          "output_type": "stream",
          "name": "stderr",
          "text": [
            "WARNING:tensorflow:Layer gru_4 will not use cuDNN kernels since it doesn't meet the criteria. It will use a generic GPU kernel as fallback when running on GPU.\n"
          ]
        },
        {
          "output_type": "stream",
          "name": "stdout",
          "text": [
            "WARNING:tensorflow:Layer lstm_6 will not use cuDNN kernels since it doesn't meet the criteria. It will use a generic GPU kernel as fallback when running on GPU.\n"
          ]
        },
        {
          "output_type": "stream",
          "name": "stderr",
          "text": [
            "WARNING:tensorflow:Layer lstm_6 will not use cuDNN kernels since it doesn't meet the criteria. It will use a generic GPU kernel as fallback when running on GPU.\n"
          ]
        },
        {
          "output_type": "stream",
          "name": "stdout",
          "text": [
            "Epoch 1/100\n",
            "25/25 [==============================] - 4s 19ms/step - loss: 0.1382\n",
            "Epoch 2/100\n",
            "25/25 [==============================] - 0s 18ms/step - loss: 0.0182\n",
            "Epoch 3/100\n",
            "25/25 [==============================] - 0s 19ms/step - loss: 0.0053\n",
            "Epoch 4/100\n",
            "25/25 [==============================] - 0s 18ms/step - loss: 0.0030\n",
            "Epoch 5/100\n",
            "25/25 [==============================] - 0s 18ms/step - loss: 0.0028\n",
            "Epoch 6/100\n",
            "25/25 [==============================] - 0s 19ms/step - loss: 0.0028\n",
            "Epoch 7/100\n",
            "25/25 [==============================] - 0s 19ms/step - loss: 0.0030\n",
            "Epoch 8/100\n",
            "25/25 [==============================] - 0s 19ms/step - loss: 0.0031\n",
            "Epoch 9/100\n",
            "25/25 [==============================] - 0s 19ms/step - loss: 0.0029\n",
            "Epoch 10/100\n",
            "25/25 [==============================] - 0s 18ms/step - loss: 0.0026\n",
            "Epoch 11/100\n",
            "25/25 [==============================] - 0s 18ms/step - loss: 0.0026\n",
            "Epoch 12/100\n",
            "25/25 [==============================] - 0s 18ms/step - loss: 0.0025\n",
            "Epoch 13/100\n",
            "25/25 [==============================] - 0s 18ms/step - loss: 0.0024\n",
            "Epoch 14/100\n",
            "25/25 [==============================] - 0s 19ms/step - loss: 0.0023\n",
            "Epoch 15/100\n",
            "25/25 [==============================] - 0s 18ms/step - loss: 0.0022\n",
            "Epoch 16/100\n",
            "25/25 [==============================] - 0s 18ms/step - loss: 0.0021\n",
            "Epoch 17/100\n",
            "25/25 [==============================] - 0s 19ms/step - loss: 0.0022\n",
            "Epoch 18/100\n",
            "25/25 [==============================] - 0s 19ms/step - loss: 0.0021\n",
            "Epoch 19/100\n",
            "25/25 [==============================] - 0s 18ms/step - loss: 0.0019\n",
            "Epoch 20/100\n",
            "25/25 [==============================] - 0s 18ms/step - loss: 0.0018\n",
            "Epoch 21/100\n",
            "25/25 [==============================] - 0s 18ms/step - loss: 0.0016\n",
            "Epoch 22/100\n",
            "25/25 [==============================] - 0s 18ms/step - loss: 0.0015\n",
            "Epoch 23/100\n",
            "25/25 [==============================] - 0s 18ms/step - loss: 0.0015\n",
            "Epoch 24/100\n",
            "25/25 [==============================] - 0s 18ms/step - loss: 0.0017\n",
            "Epoch 25/100\n",
            "25/25 [==============================] - 0s 19ms/step - loss: 0.0018\n",
            "Epoch 26/100\n",
            "25/25 [==============================] - 0s 19ms/step - loss: 0.0015\n",
            "Epoch 27/100\n",
            "25/25 [==============================] - 0s 18ms/step - loss: 0.0014\n",
            "Epoch 28/100\n",
            "25/25 [==============================] - 0s 17ms/step - loss: 0.0014\n",
            "Epoch 29/100\n",
            "25/25 [==============================] - 0s 18ms/step - loss: 0.0013\n",
            "Epoch 30/100\n",
            "25/25 [==============================] - 0s 18ms/step - loss: 0.0013\n",
            "Epoch 31/100\n",
            "25/25 [==============================] - 0s 19ms/step - loss: 0.0013\n",
            "Epoch 32/100\n",
            "25/25 [==============================] - 0s 18ms/step - loss: 0.0012\n",
            "Epoch 33/100\n",
            "25/25 [==============================] - 0s 18ms/step - loss: 0.0012\n",
            "Epoch 34/100\n",
            "25/25 [==============================] - 0s 18ms/step - loss: 0.0012\n",
            "Epoch 35/100\n",
            "25/25 [==============================] - 0s 18ms/step - loss: 0.0012\n",
            "Epoch 36/100\n",
            "25/25 [==============================] - 0s 19ms/step - loss: 0.0013\n",
            "Epoch 37/100\n",
            "25/25 [==============================] - 0s 18ms/step - loss: 0.0012\n",
            "Epoch 38/100\n",
            "25/25 [==============================] - 0s 18ms/step - loss: 0.0015\n",
            "Epoch 39/100\n",
            "25/25 [==============================] - 0s 18ms/step - loss: 0.0012\n",
            "Epoch 40/100\n",
            "25/25 [==============================] - 0s 18ms/step - loss: 0.0011\n",
            "Epoch 41/100\n",
            "25/25 [==============================] - 0s 18ms/step - loss: 0.0011\n",
            "Epoch 42/100\n",
            "25/25 [==============================] - 0s 18ms/step - loss: 0.0013\n",
            "Epoch 43/100\n",
            "25/25 [==============================] - 0s 18ms/step - loss: 0.0012\n",
            "Epoch 44/100\n",
            "25/25 [==============================] - 0s 19ms/step - loss: 0.0012\n",
            "Epoch 45/100\n",
            "25/25 [==============================] - 0s 19ms/step - loss: 0.0011\n",
            "Epoch 46/100\n",
            "25/25 [==============================] - 0s 18ms/step - loss: 0.0011\n",
            "Epoch 47/100\n",
            "25/25 [==============================] - 0s 18ms/step - loss: 0.0011\n",
            "Epoch 48/100\n",
            "25/25 [==============================] - 0s 19ms/step - loss: 0.0011\n",
            "Epoch 49/100\n",
            "25/25 [==============================] - 0s 19ms/step - loss: 0.0011\n",
            "Epoch 50/100\n",
            "25/25 [==============================] - 0s 18ms/step - loss: 0.0012\n",
            "Epoch 51/100\n",
            "25/25 [==============================] - 0s 19ms/step - loss: 0.0012\n",
            "Epoch 52/100\n",
            "25/25 [==============================] - 0s 19ms/step - loss: 0.0013\n",
            "Epoch 53/100\n",
            "25/25 [==============================] - 0s 19ms/step - loss: 0.0011\n",
            "Epoch 54/100\n",
            "25/25 [==============================] - 0s 19ms/step - loss: 0.0011\n",
            "Epoch 55/100\n",
            "25/25 [==============================] - 0s 18ms/step - loss: 0.0011\n",
            "Epoch 56/100\n",
            "25/25 [==============================] - 0s 18ms/step - loss: 0.0011\n",
            "Epoch 57/100\n",
            "25/25 [==============================] - 0s 19ms/step - loss: 0.0010\n",
            "Epoch 58/100\n",
            "25/25 [==============================] - 0s 19ms/step - loss: 0.0011\n",
            "Epoch 59/100\n",
            "25/25 [==============================] - 0s 19ms/step - loss: 0.0013\n",
            "Epoch 60/100\n",
            "25/25 [==============================] - 0s 19ms/step - loss: 0.0012\n",
            "Epoch 61/100\n",
            "25/25 [==============================] - 0s 19ms/step - loss: 0.0010\n",
            "Epoch 62/100\n",
            "25/25 [==============================] - 0s 19ms/step - loss: 0.0011\n",
            "Epoch 63/100\n",
            "25/25 [==============================] - 0s 19ms/step - loss: 0.0011\n",
            "Epoch 64/100\n",
            "25/25 [==============================] - 0s 18ms/step - loss: 0.0011\n",
            "Epoch 65/100\n",
            "25/25 [==============================] - 0s 19ms/step - loss: 0.0010\n",
            "Epoch 66/100\n",
            "25/25 [==============================] - 0s 19ms/step - loss: 0.0011\n",
            "Epoch 67/100\n",
            "25/25 [==============================] - 0s 19ms/step - loss: 9.7374e-04\n",
            "Epoch 68/100\n",
            "25/25 [==============================] - 0s 19ms/step - loss: 9.8533e-04\n",
            "Epoch 69/100\n",
            "25/25 [==============================] - 0s 19ms/step - loss: 0.0011\n",
            "Epoch 70/100\n",
            "25/25 [==============================] - 0s 19ms/step - loss: 0.0012\n",
            "Epoch 71/100\n",
            "25/25 [==============================] - 0s 19ms/step - loss: 0.0010\n",
            "Epoch 72/100\n",
            "25/25 [==============================] - 0s 19ms/step - loss: 0.0011\n",
            "Epoch 73/100\n",
            "25/25 [==============================] - 0s 19ms/step - loss: 9.9182e-04\n",
            "Epoch 74/100\n",
            "25/25 [==============================] - 0s 19ms/step - loss: 9.6659e-04\n",
            "Epoch 75/100\n",
            "25/25 [==============================] - 0s 19ms/step - loss: 0.0010\n",
            "Epoch 76/100\n",
            "25/25 [==============================] - 0s 18ms/step - loss: 0.0011\n",
            "Epoch 77/100\n",
            "25/25 [==============================] - 0s 19ms/step - loss: 9.6266e-04\n",
            "Epoch 78/100\n",
            "25/25 [==============================] - 0s 19ms/step - loss: 0.0010\n",
            "Epoch 79/100\n",
            "25/25 [==============================] - 0s 18ms/step - loss: 9.9531e-04\n",
            "Epoch 80/100\n",
            "25/25 [==============================] - 0s 18ms/step - loss: 0.0010\n",
            "Epoch 81/100\n",
            "25/25 [==============================] - 0s 18ms/step - loss: 9.9750e-04\n",
            "Epoch 82/100\n",
            "25/25 [==============================] - 0s 18ms/step - loss: 0.0011\n",
            "Epoch 83/100\n",
            "25/25 [==============================] - 0s 18ms/step - loss: 0.0011\n",
            "Epoch 84/100\n",
            "25/25 [==============================] - 0s 18ms/step - loss: 0.0011\n",
            "Epoch 85/100\n",
            "25/25 [==============================] - 0s 18ms/step - loss: 0.0010\n",
            "Epoch 86/100\n",
            "25/25 [==============================] - 0s 18ms/step - loss: 0.0010\n",
            "Epoch 87/100\n",
            "25/25 [==============================] - 0s 18ms/step - loss: 0.0011\n",
            "Epoch 88/100\n",
            "25/25 [==============================] - 0s 18ms/step - loss: 0.0010\n",
            "Epoch 89/100\n",
            "25/25 [==============================] - 0s 18ms/step - loss: 9.8135e-04\n",
            "Epoch 90/100\n",
            "25/25 [==============================] - 0s 18ms/step - loss: 0.0010\n",
            "Epoch 91/100\n",
            "25/25 [==============================] - 0s 18ms/step - loss: 0.0010\n",
            "Epoch 92/100\n",
            "25/25 [==============================] - 0s 18ms/step - loss: 9.8326e-04\n",
            "Epoch 93/100\n",
            "25/25 [==============================] - 0s 18ms/step - loss: 9.9273e-04\n",
            "Epoch 94/100\n",
            "25/25 [==============================] - 0s 18ms/step - loss: 0.0013\n",
            "Epoch 95/100\n",
            "25/25 [==============================] - 0s 18ms/step - loss: 0.0012\n",
            "Epoch 96/100\n",
            "25/25 [==============================] - 0s 18ms/step - loss: 0.0010\n",
            "Epoch 97/100\n",
            "25/25 [==============================] - 0s 18ms/step - loss: 0.0010\n",
            "Epoch 98/100\n",
            "25/25 [==============================] - 0s 18ms/step - loss: 9.8191e-04\n",
            "Epoch 99/100\n",
            "25/25 [==============================] - 0s 19ms/step - loss: 0.0010\n",
            "Epoch 100/100\n",
            "25/25 [==============================] - 0s 18ms/step - loss: 0.0011\n"
          ]
        },
        {
          "output_type": "execute_result",
          "data": {
            "text/plain": [
              "<keras.callbacks.History at 0x7fb08ed61ed0>"
            ]
          },
          "metadata": {},
          "execution_count": 25
        }
      ]
    },
    {
      "cell_type": "code",
      "source": [
        "t1 = time.perf_counter()\n",
        "predicted_stock_price = model_div.predict(X_test)\n",
        "t2 = time.perf_counter()\n",
        "\n",
        "predicted_stock_price = sc.inverse_transform(predicted_stock_price)\n",
        "\n",
        "print(model_div.evaluate(X_test,y_test), t2-t1)"
      ],
      "metadata": {
        "colab": {
          "base_uri": "https://localhost:8080/"
        },
        "id": "pTVigmT_tepN",
        "outputId": "879c7bb4-d260-4a88-dba4-0e49773fdfca"
      },
      "execution_count": 21,
      "outputs": [
        {
          "output_type": "stream",
          "name": "stdout",
          "text": [
            "15/15 [==============================] - 1s 3ms/step - loss: 0.0585\n",
            "0.05853773280978203 0.6690513359999386\n"
          ]
        }
      ]
    },
    {
      "cell_type": "code",
      "source": [
        "!mkdir -p saved_model\n",
        "model_div.save('saved_model/Diverse_NAS')"
      ],
      "metadata": {
        "colab": {
          "base_uri": "https://localhost:8080/"
        },
        "id": "QHubEE9vnWOI",
        "outputId": "3bac9eae-d71a-49ff-d3cf-0cfe85b29d2b"
      },
      "execution_count": 27,
      "outputs": [
        {
          "output_type": "stream",
          "name": "stderr",
          "text": [
            "WARNING:absl:Found untraced functions such as lstm_cell_7_layer_call_fn, lstm_cell_7_layer_call_and_return_conditional_losses, lstm_cell_7_layer_call_fn, lstm_cell_7_layer_call_and_return_conditional_losses, lstm_cell_7_layer_call_and_return_conditional_losses while saving (showing 5 of 5). These functions will not be directly callable after loading.\n"
          ]
        },
        {
          "output_type": "stream",
          "name": "stdout",
          "text": [
            "INFO:tensorflow:Assets written to: saved_model/Diverse_NAS/assets\n"
          ]
        },
        {
          "output_type": "stream",
          "name": "stderr",
          "text": [
            "INFO:tensorflow:Assets written to: saved_model/Diverse_NAS/assets\n",
            "WARNING:absl:<keras.layers.recurrent.GRUCell object at 0x7fb095d17d50> has the same name 'GRUCell' as a built-in Keras object. Consider renaming <class 'keras.layers.recurrent.GRUCell'> to avoid naming conflicts when loading with `tf.keras.models.load_model`. If renaming is not possible, pass the object in the `custom_objects` parameter of the load function.\n",
            "WARNING:absl:<keras.layers.recurrent.LSTMCell object at 0x7fb096da4f50> has the same name 'LSTMCell' as a built-in Keras object. Consider renaming <class 'keras.layers.recurrent.LSTMCell'> to avoid naming conflicts when loading with `tf.keras.models.load_model`. If renaming is not possible, pass the object in the `custom_objects` parameter of the load function.\n",
            "WARNING:absl:<keras.layers.recurrent.LSTMCell object at 0x7fb095652590> has the same name 'LSTMCell' as a built-in Keras object. Consider renaming <class 'keras.layers.recurrent.LSTMCell'> to avoid naming conflicts when loading with `tf.keras.models.load_model`. If renaming is not possible, pass the object in the `custom_objects` parameter of the load function.\n"
          ]
        }
      ]
    },
    {
      "cell_type": "code",
      "source": [
        "# Visualising the results\n",
        "plt.rcParams[\"figure.figsize\"]=(15,10)\n",
        "plt.plot(df.loc[800:, \"Date\"],dataset_test.values, color = \"red\", label = \"Real TESLA Stock Price\")\n",
        "plt.plot(df.loc[800:, \"Date\"],predicted_stock_price, color = \"blue\", label = \"Predicted TESLA Stock Price\")\n",
        "plt.xticks(np.arange(0,459,50))\n",
        "plt.title('TESLA Stock Price Prediction')\n",
        "plt.xlabel('Time')\n",
        "plt.ylabel('TESLA Stock Price')\n",
        "plt.legend()\n",
        "plt.show()"
      ],
      "metadata": {
        "colab": {
          "base_uri": "https://localhost:8080/",
          "height": 621
        },
        "id": "J7Bhmmt1tf2I",
        "outputId": "3f7eb05b-7f2a-4b9c-e545-2da1f191c3a4"
      },
      "execution_count": 23,
      "outputs": [
        {
          "output_type": "display_data",
          "data": {
            "image/png": "[encoded data removed]",
            "text/plain": [
              "<Figure size 1080x720 with 1 Axes>"
            ]
          },
          "metadata": {
            "needs_background": "light"
          }
        }
      ]
    },
    {
      "cell_type": "code",
      "source": [
        "acc_div = 100 - (abs(predicted_stock_price - dataset_test.values) / dataset_test.values * 100).mean()"
      ],
      "metadata": {
        "id": "Pi0JZ-SIXwqZ"
      },
      "execution_count": 29,
      "outputs": []
    },
    {
      "cell_type": "code",
      "source": [
        "print(acc_div)"
      ],
      "metadata": {
        "colab": {
          "base_uri": "https://localhost:8080/"
        },
        "id": "BMp43j_XW8XU",
        "outputId": "04ee9f6c-c6c4-4fec-b4a7-fd590645898b"
      },
      "execution_count": 36,
      "outputs": [
        {
          "output_type": "stream",
          "name": "stdout",
          "text": [
            "94.829992410144\n"
          ]
        }
      ]
    },
    {
      "cell_type": "markdown",
      "source": [
        "## Results"
      ],
      "metadata": {
        "id": "aLFVU9Qmwb4k"
      }
    },
    {
      "cell_type": "markdown",
      "source": [
        "Time taken to train: 32505.52s\n",
        "\n",
        "Loss: 0.0585\n",
        "\n",
        "Accuracy: 94.83"
      ],
      "metadata": {
        "id": "NFRVUWUOwdlD"
      }
    },
    {
      "cell_type": "markdown",
      "source": [
        "# Experiments"
      ],
      "metadata": {
        "id": "YcVT7V-GrlRJ"
      }
    },
    {
      "cell_type": "markdown",
      "source": [
        "## EXP 1: Accuracy"
      ],
      "metadata": {
        "id": "egeWXGxcroOn"
      }
    },
    {
      "cell_type": "code",
      "source": [
        "print(\"Accuracy of Manual LSTM Model: \" + str(acc_LSTM))\n",
        "print(\"Accuracy of Manual GRU Model: \" + str(acc_GRU))\n",
        "print(\"Accuracy of Stacked NAS Model: \" + str(acc_LSTM_st))\n",
        "print(\"Accuracy of Diverse NAS Model: \" + str(acc_div))"
      ],
      "metadata": {
        "colab": {
          "base_uri": "https://localhost:8080/"
        },
        "id": "Z1-FxfvhU5XO",
        "outputId": "1f8956b2-9e76-4e71-fcb6-f16525fe1b43"
      },
      "execution_count": 38,
      "outputs": [
        {
          "output_type": "stream",
          "name": "stdout",
          "text": [
            "Accuracy of Manual LSTM Model: 85.8985318191656\n",
            "Accuracy of Manual GRU Model: 94.7658690115122\n",
            "Accuracy of Stacked NAS Model: 91.5925141679735\n",
            "Accuracy of Diverse NAS Model: 94.829992410144\n"
          ]
        }
      ]
    },
    {
      "cell_type": "markdown",
      "source": [
        "## EXP 2: Transferability"
      ],
      "metadata": {
        "id": "SgpHPguBZyDQ"
      }
    },
    {
      "cell_type": "code",
      "source": [
        "def calculate_ev_time_acc(model, dataset):\n",
        "  df=pd.read_csv(dataset)\n",
        "  # df = pd.read_csv('./tsla.us.txt')\n",
        "  print(\"Number of rows and columns:\", df.shape)\n",
        "  df.head(5)\n",
        "\n",
        "  training_set = df.iloc[:800, 1:2].values\n",
        "  test_set = df.iloc[800:, 1:2].values\n",
        "\n",
        "  # Feature Scaling\n",
        "  sc = MinMaxScaler(feature_range = (0, 1))\n",
        "  training_set_scaled = sc.fit_transform(training_set)\n",
        "  # Creating a data structure with 60 time-steps and 1 output\n",
        "  X_train = []\n",
        "  y_train = []\n",
        "  for i in range(5, 800):\n",
        "      X_train.append(training_set_scaled[i-5:i, 0])\n",
        "      y_train.append(training_set_scaled[i, 0])\n",
        "  X_train, y_train = np.array(X_train), np.array(y_train)\n",
        "  X_train = np.reshape(X_train, (X_train.shape[0], X_train.shape[1], 1))\n",
        "  #(740, 60, 1)\n",
        "\n",
        "  # Getting the predicted stock price of 2017\n",
        "  dataset_train = df.iloc[:800, 1:2]\n",
        "  dataset_test = df.iloc[800:, 1:2]\n",
        "  dataset_total = pd.concat((dataset_train, dataset_test), axis = 0)\n",
        "  inputs = dataset_total[len(dataset_total) - len(dataset_test) - 5:].values\n",
        "  inputs = inputs.reshape(-1,1)\n",
        "  inputs = sc.transform(inputs)\n",
        "\n",
        "  sc_test = MinMaxScaler(feature_range = (0, 1))\n",
        "  inputs_scaled = sc_test.fit_transform(inputs)\n",
        "\n",
        "  X_test = []\n",
        "  y_test = []\n",
        "\n",
        "  for i in range(5, 464):\n",
        "      X_test.append(inputs[i-5:i, 0])\n",
        "      y_test.append(inputs[i, 0])\n",
        "\n",
        "  X_test, y_test = np.array(X_test), np.array(y_test)\n",
        "  X_test = np.reshape(X_test, (X_test.shape[0], X_test.shape[1], 1))\n",
        "\n",
        "  t1 = time.perf_counter()\n",
        "  predicted_stock_price = model.predict(X_test)\n",
        "  t2 = time.perf_counter()\n",
        "  predicted_stock_price = sc.inverse_transform(predicted_stock_price)\n",
        "\n",
        "  model.evaluate(X_test,y_test)\n",
        "  acc = 100 - (abs(predicted_stock_price - dataset_test.values) / dataset_test.values * 100).mean()\n",
        "  \n",
        "  return t2-t1, acc"
      ],
      "metadata": {
        "id": "PZJlsK1uba02"
      },
      "execution_count": 31,
      "outputs": []
    },
    {
      "cell_type": "code",
      "source": [
        "import time\n",
        "\n",
        "eva_times = []\n",
        "accs = []\n",
        "\n",
        "datasets = [\"/content/drive/My Drive/6998/project/GOOG.csv\", \"/content/drive/My Drive/6998/project/AAPL.csv\", \"/content/drive/My Drive/6998/project/MSFT.csv\"]\n",
        "\n",
        "for d in datasets:\n",
        "  print(d)\n",
        "  e,a = calculate_ev_time_acc(model_LSTM, d)\n",
        "  eva_times.append(e)\n",
        "  accs.append(a)\n",
        "\n",
        "  e,a = calculate_ev_time_acc(model_GRU, d)\n",
        "  eva_times.append(e)\n",
        "  accs.append(a)\n",
        "\n",
        "  e,a = calculate_ev_time_acc(model_stack, d)\n",
        "  eva_times.append(e)\n",
        "  accs.append(a)\n",
        "\n",
        "  e,a = calculate_ev_time_acc(model_div, d)\n",
        "  eva_times.append(e)\n",
        "  accs.append(a)"
      ],
      "metadata": {
        "colab": {
          "base_uri": "https://localhost:8080/"
        },
        "id": "OcRsVDGxNf0w",
        "outputId": "db6bbebe-05c3-49fb-e0d7-2cff44812a5e"
      },
      "execution_count": 32,
      "outputs": [
        {
          "output_type": "stream",
          "name": "stdout",
          "text": [
            "/content/drive/My Drive/6998/project/GOOG.csv\n",
            "Number of rows and columns: (1259, 7)\n",
            "15/15 [==============================] - 0s 3ms/step - loss: 0.9274\n",
            "Number of rows and columns: (1259, 7)\n",
            "15/15 [==============================] - 0s 3ms/step - loss: 0.0525\n",
            "Number of rows and columns: (1259, 7)\n",
            "15/15 [==============================] - 0s 3ms/step - loss: 0.0530\n",
            "Number of rows and columns: (1259, 7)\n",
            "15/15 [==============================] - 0s 4ms/step - loss: 0.2758\n",
            "/content/drive/My Drive/6998/project/AAPL.csv\n",
            "Number of rows and columns: (1259, 7)\n",
            "15/15 [==============================] - 0s 3ms/step - loss: 0.0015\n",
            "Number of rows and columns: (1259, 7)\n",
            "15/15 [==============================] - 0s 3ms/step - loss: 4.5280e-04\n",
            "Number of rows and columns: (1259, 7)\n",
            "15/15 [==============================] - 0s 3ms/step - loss: 5.3466e-04\n",
            "Number of rows and columns: (1259, 7)\n",
            "15/15 [==============================] - 0s 4ms/step - loss: 9.9214e-04\n",
            "/content/drive/My Drive/6998/project/MSFT.csv\n",
            "Number of rows and columns: (1259, 7)\n",
            "15/15 [==============================] - 0s 3ms/step - loss: 0.1887\n",
            "Number of rows and columns: (1259, 7)\n",
            "15/15 [==============================] - 0s 3ms/step - loss: 0.0052\n",
            "Number of rows and columns: (1259, 7)\n",
            "15/15 [==============================] - 0s 3ms/step - loss: 0.0174\n",
            "Number of rows and columns: (1259, 7)\n",
            "15/15 [==============================] - 0s 4ms/step - loss: 0.0652\n"
          ]
        }
      ]
    },
    {
      "cell_type": "code",
      "source": [
        "i = 0\n",
        "mean_ev = (eva_times[i] + eva_times[i+4] + eva_times[i+8] + 1.2876015710000956) / 4\n",
        "mean_acc = (accs[i] + accs[i+4] + accs[i+8] + acc_LSTM) / 4\n",
        "print(\"Manual LSTM mean time taken to evaluate: \" + str(mean_ev) + \" seconds\")\n",
        "print(\"Manual LSTM mean accuracy on test set: \" + str(mean_acc) + \"%\")"
      ],
      "metadata": {
        "colab": {
          "base_uri": "https://localhost:8080/"
        },
        "id": "_YIDI9mBf_95",
        "outputId": "ff6796c5-5390-4eee-ea36-72199a092483"
      },
      "execution_count": 43,
      "outputs": [
        {
          "output_type": "stream",
          "name": "stdout",
          "text": [
            "Manual LSTM mean time taken to evaluate: 0.3831309012500128 seconds\n",
            "Manual LSTM mean accuracy on test set: 86.57511450801842%\n",
            "79.91692629392361\n"
          ]
        }
      ]
    },
    {
      "cell_type": "code",
      "source": [
        "i = 1\n",
        "mean_ev = (eva_times[i] + eva_times[i+4] + eva_times[i+8] + 1.364219028999969) / 4\n",
        "mean_acc = (accs[i] + accs[i+4] + accs[i+8] + acc_GRU) / 4\n",
        "print(\"Manual GRU mean time taken to evaluate: \" + str(mean_ev) + \" seconds\")\n",
        "print(\"Manual GRU mean accuracy on test set: \" + str(mean_acc) + \"%\")"
      ],
      "metadata": {
        "colab": {
          "base_uri": "https://localhost:8080/"
        },
        "id": "gbChjdgGY1wI",
        "outputId": "309265d7-6671-4788-dd54-5e40c45904af"
      },
      "execution_count": 44,
      "outputs": [
        {
          "output_type": "stream",
          "name": "stdout",
          "text": [
            "Manual GRU mean time taken to evaluate: 0.4008286077499861 seconds\n",
            "Manual GRU mean accuracy on test set: 95.76400768275064%\n"
          ]
        }
      ]
    },
    {
      "cell_type": "code",
      "source": [
        "i = 2\n",
        "mean_ev = (eva_times[i] + eva_times[i+4] + eva_times[i+8] + 0.6441872210000383) / 4\n",
        "mean_acc = (accs[i] + accs[i+4] + accs[i+8] + acc_LSTM_st) / 4\n",
        "print(\"LSTM stacked mean time taken to evaluate: \" + str(mean_ev) + \" seconds\")\n",
        "print(\"LSTM stacked mean accuracy on test set: \" + str(mean_acc) + \"%\")"
      ],
      "metadata": {
        "colab": {
          "base_uri": "https://localhost:8080/"
        },
        "id": "la1wHfytY2NU",
        "outputId": "86e41c4d-24f7-4741-d30a-dd5d18f65e34"
      },
      "execution_count": 46,
      "outputs": [
        {
          "output_type": "stream",
          "name": "stdout",
          "text": [
            "LSTM stacked mean time taken to evaluate: 0.21203359575002878 seconds\n",
            "LSTM stacked mean accuracy on test set: 94.34359427034858%\n"
          ]
        }
      ]
    },
    {
      "cell_type": "code",
      "source": [
        "i = 3\n",
        "mean_ev = (eva_times[i] + eva_times[i+4] + eva_times[i+8] + 0.6690513359999386) / 4\n",
        "mean_acc = (accs[i] + accs[i+4] + accs[i+8] + acc_div) / 4\n",
        "print(\"Diverse NAS mean time taken to evaluate: \" + str(mean_ev) + \" seconds\")\n",
        "print(\"Diverse NAS mean accuracy on test set: \" + str(mean_acc) + \"%\")"
      ],
      "metadata": {
        "colab": {
          "base_uri": "https://localhost:8080/"
        },
        "id": "8wflDoZiY2xN",
        "outputId": "127a4501-c5be-4341-f26c-76936f31007c"
      },
      "execution_count": 47,
      "outputs": [
        {
          "output_type": "stream",
          "name": "stdout",
          "text": [
            "Diverse NAS mean time taken to evaluate: 0.23810147499995082 seconds\n",
            "Diverse NAS mean accuracy on test set: 91.95918415682274%\n"
          ]
        }
      ]
    }
  ]
}